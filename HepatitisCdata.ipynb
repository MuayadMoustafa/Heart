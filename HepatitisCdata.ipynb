{
 "cells": [
  {
   "cell_type": "code",
   "execution_count": 1,
   "id": "166a176e",
   "metadata": {
    "ExecuteTime": {
     "end_time": "2022-12-23T15:03:27.468134Z",
     "start_time": "2022-12-23T15:03:24.131190Z"
    }
   },
   "outputs": [],
   "source": [
    "import pandas as pd\n",
    "import numpy as np\n",
    "import seaborn as sns\n",
    "from matplotlib import pyplot as plt\n",
    "from sklearn.preprocessing import StandardScaler\n",
    "from sklearn.model_selection import train_test_split\n",
    "from sklearn.tree import DecisionTreeClassifier\n",
    "from sklearn.metrics import accuracy_score\n",
    "from sklearn.svm import SVC\n",
    "from sklearn.linear_model import LogisticRegression\n",
    "from sklearn import neighbors\n",
    "from sklearn.ensemble import RandomForestClassifier\n",
    "from sklearn.model_selection import cross_val_score\n",
    "from sklearn.metrics import f1_score\n",
    "from sklearn.metrics import confusion_matrix\n",
    "from sklearn.tree import DecisionTreeClassifier\n",
    "from sklearn.preprocessing import LabelEncoder"
   ]
  },
  {
   "cell_type": "code",
   "execution_count": 27,
   "id": "ce4b6a2f",
   "metadata": {
    "ExecuteTime": {
     "end_time": "2022-12-23T15:20:56.656039Z",
     "start_time": "2022-12-23T15:20:56.601040Z"
    }
   },
   "outputs": [
    {
     "data": {
      "text/html": [
       "<div>\n",
       "<style scoped>\n",
       "    .dataframe tbody tr th:only-of-type {\n",
       "        vertical-align: middle;\n",
       "    }\n",
       "\n",
       "    .dataframe tbody tr th {\n",
       "        vertical-align: top;\n",
       "    }\n",
       "\n",
       "    .dataframe thead th {\n",
       "        text-align: right;\n",
       "    }\n",
       "</style>\n",
       "<table border=\"1\" class=\"dataframe\">\n",
       "  <thead>\n",
       "    <tr style=\"text-align: right;\">\n",
       "      <th></th>\n",
       "      <th>Unnamed</th>\n",
       "      <th>Category</th>\n",
       "      <th>Age</th>\n",
       "      <th>Sex</th>\n",
       "      <th>ALB</th>\n",
       "      <th>ALP</th>\n",
       "      <th>ALT</th>\n",
       "      <th>AST</th>\n",
       "      <th>BIL</th>\n",
       "      <th>CHE</th>\n",
       "      <th>CHOL</th>\n",
       "      <th>CREA</th>\n",
       "      <th>GGT</th>\n",
       "      <th>PROT</th>\n",
       "    </tr>\n",
       "  </thead>\n",
       "  <tbody>\n",
       "    <tr>\n",
       "      <th>0</th>\n",
       "      <td>1</td>\n",
       "      <td>0=Blood Donor</td>\n",
       "      <td>32</td>\n",
       "      <td>m</td>\n",
       "      <td>38.5</td>\n",
       "      <td>52.5</td>\n",
       "      <td>7.7</td>\n",
       "      <td>22.1</td>\n",
       "      <td>7.5</td>\n",
       "      <td>6.93</td>\n",
       "      <td>3.23</td>\n",
       "      <td>106.0</td>\n",
       "      <td>12.1</td>\n",
       "      <td>69.0</td>\n",
       "    </tr>\n",
       "    <tr>\n",
       "      <th>1</th>\n",
       "      <td>2</td>\n",
       "      <td>0=Blood Donor</td>\n",
       "      <td>32</td>\n",
       "      <td>m</td>\n",
       "      <td>38.5</td>\n",
       "      <td>70.3</td>\n",
       "      <td>18.0</td>\n",
       "      <td>24.7</td>\n",
       "      <td>3.9</td>\n",
       "      <td>11.17</td>\n",
       "      <td>4.80</td>\n",
       "      <td>74.0</td>\n",
       "      <td>15.6</td>\n",
       "      <td>76.5</td>\n",
       "    </tr>\n",
       "    <tr>\n",
       "      <th>2</th>\n",
       "      <td>3</td>\n",
       "      <td>0=Blood Donor</td>\n",
       "      <td>32</td>\n",
       "      <td>m</td>\n",
       "      <td>46.9</td>\n",
       "      <td>74.7</td>\n",
       "      <td>36.2</td>\n",
       "      <td>52.6</td>\n",
       "      <td>6.1</td>\n",
       "      <td>8.84</td>\n",
       "      <td>5.20</td>\n",
       "      <td>86.0</td>\n",
       "      <td>33.2</td>\n",
       "      <td>79.3</td>\n",
       "    </tr>\n",
       "    <tr>\n",
       "      <th>3</th>\n",
       "      <td>4</td>\n",
       "      <td>0=Blood Donor</td>\n",
       "      <td>32</td>\n",
       "      <td>m</td>\n",
       "      <td>43.2</td>\n",
       "      <td>52.0</td>\n",
       "      <td>30.6</td>\n",
       "      <td>22.6</td>\n",
       "      <td>18.9</td>\n",
       "      <td>7.33</td>\n",
       "      <td>4.74</td>\n",
       "      <td>80.0</td>\n",
       "      <td>33.8</td>\n",
       "      <td>75.7</td>\n",
       "    </tr>\n",
       "    <tr>\n",
       "      <th>4</th>\n",
       "      <td>5</td>\n",
       "      <td>0=Blood Donor</td>\n",
       "      <td>32</td>\n",
       "      <td>m</td>\n",
       "      <td>39.2</td>\n",
       "      <td>74.1</td>\n",
       "      <td>32.6</td>\n",
       "      <td>24.8</td>\n",
       "      <td>9.6</td>\n",
       "      <td>9.15</td>\n",
       "      <td>4.32</td>\n",
       "      <td>76.0</td>\n",
       "      <td>29.9</td>\n",
       "      <td>68.7</td>\n",
       "    </tr>\n",
       "    <tr>\n",
       "      <th>...</th>\n",
       "      <td>...</td>\n",
       "      <td>...</td>\n",
       "      <td>...</td>\n",
       "      <td>...</td>\n",
       "      <td>...</td>\n",
       "      <td>...</td>\n",
       "      <td>...</td>\n",
       "      <td>...</td>\n",
       "      <td>...</td>\n",
       "      <td>...</td>\n",
       "      <td>...</td>\n",
       "      <td>...</td>\n",
       "      <td>...</td>\n",
       "      <td>...</td>\n",
       "    </tr>\n",
       "    <tr>\n",
       "      <th>610</th>\n",
       "      <td>611</td>\n",
       "      <td>3=Cirrhosis</td>\n",
       "      <td>62</td>\n",
       "      <td>f</td>\n",
       "      <td>32.0</td>\n",
       "      <td>416.6</td>\n",
       "      <td>5.9</td>\n",
       "      <td>110.3</td>\n",
       "      <td>50.0</td>\n",
       "      <td>5.57</td>\n",
       "      <td>6.30</td>\n",
       "      <td>55.7</td>\n",
       "      <td>650.9</td>\n",
       "      <td>68.5</td>\n",
       "    </tr>\n",
       "    <tr>\n",
       "      <th>611</th>\n",
       "      <td>612</td>\n",
       "      <td>3=Cirrhosis</td>\n",
       "      <td>64</td>\n",
       "      <td>f</td>\n",
       "      <td>24.0</td>\n",
       "      <td>102.8</td>\n",
       "      <td>2.9</td>\n",
       "      <td>44.4</td>\n",
       "      <td>20.0</td>\n",
       "      <td>1.54</td>\n",
       "      <td>3.02</td>\n",
       "      <td>63.0</td>\n",
       "      <td>35.9</td>\n",
       "      <td>71.3</td>\n",
       "    </tr>\n",
       "    <tr>\n",
       "      <th>612</th>\n",
       "      <td>613</td>\n",
       "      <td>3=Cirrhosis</td>\n",
       "      <td>64</td>\n",
       "      <td>f</td>\n",
       "      <td>29.0</td>\n",
       "      <td>87.3</td>\n",
       "      <td>3.5</td>\n",
       "      <td>99.0</td>\n",
       "      <td>48.0</td>\n",
       "      <td>1.66</td>\n",
       "      <td>3.63</td>\n",
       "      <td>66.7</td>\n",
       "      <td>64.2</td>\n",
       "      <td>82.0</td>\n",
       "    </tr>\n",
       "    <tr>\n",
       "      <th>613</th>\n",
       "      <td>614</td>\n",
       "      <td>3=Cirrhosis</td>\n",
       "      <td>46</td>\n",
       "      <td>f</td>\n",
       "      <td>33.0</td>\n",
       "      <td>NaN</td>\n",
       "      <td>39.0</td>\n",
       "      <td>62.0</td>\n",
       "      <td>20.0</td>\n",
       "      <td>3.56</td>\n",
       "      <td>4.20</td>\n",
       "      <td>52.0</td>\n",
       "      <td>50.0</td>\n",
       "      <td>71.0</td>\n",
       "    </tr>\n",
       "    <tr>\n",
       "      <th>614</th>\n",
       "      <td>615</td>\n",
       "      <td>3=Cirrhosis</td>\n",
       "      <td>59</td>\n",
       "      <td>f</td>\n",
       "      <td>36.0</td>\n",
       "      <td>NaN</td>\n",
       "      <td>100.0</td>\n",
       "      <td>80.0</td>\n",
       "      <td>12.0</td>\n",
       "      <td>9.07</td>\n",
       "      <td>5.30</td>\n",
       "      <td>67.0</td>\n",
       "      <td>34.0</td>\n",
       "      <td>68.0</td>\n",
       "    </tr>\n",
       "  </tbody>\n",
       "</table>\n",
       "<p>615 rows × 14 columns</p>\n",
       "</div>"
      ],
      "text/plain": [
       "     Unnamed       Category  Age Sex   ALB    ALP    ALT    AST   BIL    CHE  \\\n",
       "0          1  0=Blood Donor   32   m  38.5   52.5    7.7   22.1   7.5   6.93   \n",
       "1          2  0=Blood Donor   32   m  38.5   70.3   18.0   24.7   3.9  11.17   \n",
       "2          3  0=Blood Donor   32   m  46.9   74.7   36.2   52.6   6.1   8.84   \n",
       "3          4  0=Blood Donor   32   m  43.2   52.0   30.6   22.6  18.9   7.33   \n",
       "4          5  0=Blood Donor   32   m  39.2   74.1   32.6   24.8   9.6   9.15   \n",
       "..       ...            ...  ...  ..   ...    ...    ...    ...   ...    ...   \n",
       "610      611    3=Cirrhosis   62   f  32.0  416.6    5.9  110.3  50.0   5.57   \n",
       "611      612    3=Cirrhosis   64   f  24.0  102.8    2.9   44.4  20.0   1.54   \n",
       "612      613    3=Cirrhosis   64   f  29.0   87.3    3.5   99.0  48.0   1.66   \n",
       "613      614    3=Cirrhosis   46   f  33.0    NaN   39.0   62.0  20.0   3.56   \n",
       "614      615    3=Cirrhosis   59   f  36.0    NaN  100.0   80.0  12.0   9.07   \n",
       "\n",
       "     CHOL   CREA    GGT  PROT  \n",
       "0    3.23  106.0   12.1  69.0  \n",
       "1    4.80   74.0   15.6  76.5  \n",
       "2    5.20   86.0   33.2  79.3  \n",
       "3    4.74   80.0   33.8  75.7  \n",
       "4    4.32   76.0   29.9  68.7  \n",
       "..    ...    ...    ...   ...  \n",
       "610  6.30   55.7  650.9  68.5  \n",
       "611  3.02   63.0   35.9  71.3  \n",
       "612  3.63   66.7   64.2  82.0  \n",
       "613  4.20   52.0   50.0  71.0  \n",
       "614  5.30   67.0   34.0  68.0  \n",
       "\n",
       "[615 rows x 14 columns]"
      ]
     },
     "execution_count": 27,
     "metadata": {},
     "output_type": "execute_result"
    }
   ],
   "source": [
    "df = pd.read_csv('data/HepatitisCdata1.csv')\n",
    "df "
   ]
  },
  {
   "cell_type": "code",
   "execution_count": 28,
   "id": "40d035ab",
   "metadata": {
    "ExecuteTime": {
     "end_time": "2022-12-23T15:21:01.588953Z",
     "start_time": "2022-12-23T15:21:01.529955Z"
    }
   },
   "outputs": [
    {
     "data": {
      "text/html": [
       "<div>\n",
       "<style scoped>\n",
       "    .dataframe tbody tr th:only-of-type {\n",
       "        vertical-align: middle;\n",
       "    }\n",
       "\n",
       "    .dataframe tbody tr th {\n",
       "        vertical-align: top;\n",
       "    }\n",
       "\n",
       "    .dataframe thead th {\n",
       "        text-align: right;\n",
       "    }\n",
       "</style>\n",
       "<table border=\"1\" class=\"dataframe\">\n",
       "  <thead>\n",
       "    <tr style=\"text-align: right;\">\n",
       "      <th></th>\n",
       "      <th>Unnamed</th>\n",
       "      <th>Age</th>\n",
       "      <th>ALB</th>\n",
       "      <th>ALP</th>\n",
       "      <th>ALT</th>\n",
       "      <th>AST</th>\n",
       "      <th>BIL</th>\n",
       "      <th>CHE</th>\n",
       "      <th>CHOL</th>\n",
       "      <th>CREA</th>\n",
       "      <th>GGT</th>\n",
       "      <th>PROT</th>\n",
       "    </tr>\n",
       "  </thead>\n",
       "  <tbody>\n",
       "    <tr>\n",
       "      <th>count</th>\n",
       "      <td>615.000000</td>\n",
       "      <td>615.000000</td>\n",
       "      <td>614.000000</td>\n",
       "      <td>597.000000</td>\n",
       "      <td>614.000000</td>\n",
       "      <td>615.000000</td>\n",
       "      <td>615.000000</td>\n",
       "      <td>615.000000</td>\n",
       "      <td>605.000000</td>\n",
       "      <td>615.000000</td>\n",
       "      <td>615.000000</td>\n",
       "      <td>614.000000</td>\n",
       "    </tr>\n",
       "    <tr>\n",
       "      <th>mean</th>\n",
       "      <td>308.000000</td>\n",
       "      <td>47.408130</td>\n",
       "      <td>41.620195</td>\n",
       "      <td>68.283920</td>\n",
       "      <td>28.450814</td>\n",
       "      <td>34.786341</td>\n",
       "      <td>11.396748</td>\n",
       "      <td>8.196634</td>\n",
       "      <td>5.368099</td>\n",
       "      <td>81.287805</td>\n",
       "      <td>39.533171</td>\n",
       "      <td>72.044137</td>\n",
       "    </tr>\n",
       "    <tr>\n",
       "      <th>std</th>\n",
       "      <td>177.679487</td>\n",
       "      <td>10.055105</td>\n",
       "      <td>5.780629</td>\n",
       "      <td>26.028315</td>\n",
       "      <td>25.469689</td>\n",
       "      <td>33.090690</td>\n",
       "      <td>19.673150</td>\n",
       "      <td>2.205657</td>\n",
       "      <td>1.132728</td>\n",
       "      <td>49.756166</td>\n",
       "      <td>54.661071</td>\n",
       "      <td>5.402636</td>\n",
       "    </tr>\n",
       "    <tr>\n",
       "      <th>min</th>\n",
       "      <td>1.000000</td>\n",
       "      <td>19.000000</td>\n",
       "      <td>14.900000</td>\n",
       "      <td>11.300000</td>\n",
       "      <td>0.900000</td>\n",
       "      <td>10.600000</td>\n",
       "      <td>0.800000</td>\n",
       "      <td>1.420000</td>\n",
       "      <td>1.430000</td>\n",
       "      <td>8.000000</td>\n",
       "      <td>4.500000</td>\n",
       "      <td>44.800000</td>\n",
       "    </tr>\n",
       "    <tr>\n",
       "      <th>25%</th>\n",
       "      <td>154.500000</td>\n",
       "      <td>39.000000</td>\n",
       "      <td>38.800000</td>\n",
       "      <td>52.500000</td>\n",
       "      <td>16.400000</td>\n",
       "      <td>21.600000</td>\n",
       "      <td>5.300000</td>\n",
       "      <td>6.935000</td>\n",
       "      <td>4.610000</td>\n",
       "      <td>67.000000</td>\n",
       "      <td>15.700000</td>\n",
       "      <td>69.300000</td>\n",
       "    </tr>\n",
       "    <tr>\n",
       "      <th>50%</th>\n",
       "      <td>308.000000</td>\n",
       "      <td>47.000000</td>\n",
       "      <td>41.950000</td>\n",
       "      <td>66.200000</td>\n",
       "      <td>23.000000</td>\n",
       "      <td>25.900000</td>\n",
       "      <td>7.300000</td>\n",
       "      <td>8.260000</td>\n",
       "      <td>5.300000</td>\n",
       "      <td>77.000000</td>\n",
       "      <td>23.300000</td>\n",
       "      <td>72.200000</td>\n",
       "    </tr>\n",
       "    <tr>\n",
       "      <th>75%</th>\n",
       "      <td>461.500000</td>\n",
       "      <td>54.000000</td>\n",
       "      <td>45.200000</td>\n",
       "      <td>80.100000</td>\n",
       "      <td>33.075000</td>\n",
       "      <td>32.900000</td>\n",
       "      <td>11.200000</td>\n",
       "      <td>9.590000</td>\n",
       "      <td>6.060000</td>\n",
       "      <td>88.000000</td>\n",
       "      <td>40.200000</td>\n",
       "      <td>75.400000</td>\n",
       "    </tr>\n",
       "    <tr>\n",
       "      <th>max</th>\n",
       "      <td>615.000000</td>\n",
       "      <td>77.000000</td>\n",
       "      <td>82.200000</td>\n",
       "      <td>416.600000</td>\n",
       "      <td>325.300000</td>\n",
       "      <td>324.000000</td>\n",
       "      <td>254.000000</td>\n",
       "      <td>16.410000</td>\n",
       "      <td>9.670000</td>\n",
       "      <td>1079.100000</td>\n",
       "      <td>650.900000</td>\n",
       "      <td>90.000000</td>\n",
       "    </tr>\n",
       "  </tbody>\n",
       "</table>\n",
       "</div>"
      ],
      "text/plain": [
       "          Unnamed         Age         ALB         ALP         ALT         AST  \\\n",
       "count  615.000000  615.000000  614.000000  597.000000  614.000000  615.000000   \n",
       "mean   308.000000   47.408130   41.620195   68.283920   28.450814   34.786341   \n",
       "std    177.679487   10.055105    5.780629   26.028315   25.469689   33.090690   \n",
       "min      1.000000   19.000000   14.900000   11.300000    0.900000   10.600000   \n",
       "25%    154.500000   39.000000   38.800000   52.500000   16.400000   21.600000   \n",
       "50%    308.000000   47.000000   41.950000   66.200000   23.000000   25.900000   \n",
       "75%    461.500000   54.000000   45.200000   80.100000   33.075000   32.900000   \n",
       "max    615.000000   77.000000   82.200000  416.600000  325.300000  324.000000   \n",
       "\n",
       "              BIL         CHE        CHOL         CREA         GGT        PROT  \n",
       "count  615.000000  615.000000  605.000000   615.000000  615.000000  614.000000  \n",
       "mean    11.396748    8.196634    5.368099    81.287805   39.533171   72.044137  \n",
       "std     19.673150    2.205657    1.132728    49.756166   54.661071    5.402636  \n",
       "min      0.800000    1.420000    1.430000     8.000000    4.500000   44.800000  \n",
       "25%      5.300000    6.935000    4.610000    67.000000   15.700000   69.300000  \n",
       "50%      7.300000    8.260000    5.300000    77.000000   23.300000   72.200000  \n",
       "75%     11.200000    9.590000    6.060000    88.000000   40.200000   75.400000  \n",
       "max    254.000000   16.410000    9.670000  1079.100000  650.900000   90.000000  "
      ]
     },
     "execution_count": 28,
     "metadata": {},
     "output_type": "execute_result"
    }
   ],
   "source": [
    "df.describe()"
   ]
  },
  {
   "cell_type": "code",
   "execution_count": 29,
   "id": "7124cd5a",
   "metadata": {
    "ExecuteTime": {
     "end_time": "2022-12-23T15:21:04.064495Z",
     "start_time": "2022-12-23T15:21:04.047496Z"
    }
   },
   "outputs": [
    {
     "name": "stdout",
     "output_type": "stream",
     "text": [
      "<class 'pandas.core.frame.DataFrame'>\n",
      "RangeIndex: 615 entries, 0 to 614\n",
      "Data columns (total 14 columns):\n",
      " #   Column    Non-Null Count  Dtype  \n",
      "---  ------    --------------  -----  \n",
      " 0   Unnamed   615 non-null    int64  \n",
      " 1   Category  615 non-null    object \n",
      " 2   Age       615 non-null    int64  \n",
      " 3   Sex       615 non-null    object \n",
      " 4   ALB       614 non-null    float64\n",
      " 5   ALP       597 non-null    float64\n",
      " 6   ALT       614 non-null    float64\n",
      " 7   AST       615 non-null    float64\n",
      " 8   BIL       615 non-null    float64\n",
      " 9   CHE       615 non-null    float64\n",
      " 10  CHOL      605 non-null    float64\n",
      " 11  CREA      615 non-null    float64\n",
      " 12  GGT       615 non-null    float64\n",
      " 13  PROT      614 non-null    float64\n",
      "dtypes: float64(10), int64(2), object(2)\n",
      "memory usage: 67.4+ KB\n"
     ]
    }
   ],
   "source": [
    "df.info()"
   ]
  },
  {
   "cell_type": "code",
   "execution_count": 30,
   "id": "ab75d01e",
   "metadata": {
    "ExecuteTime": {
     "end_time": "2022-12-23T15:21:08.653005Z",
     "start_time": "2022-12-23T15:21:08.625004Z"
    }
   },
   "outputs": [
    {
     "data": {
      "text/html": [
       "<div>\n",
       "<style scoped>\n",
       "    .dataframe tbody tr th:only-of-type {\n",
       "        vertical-align: middle;\n",
       "    }\n",
       "\n",
       "    .dataframe tbody tr th {\n",
       "        vertical-align: top;\n",
       "    }\n",
       "\n",
       "    .dataframe thead th {\n",
       "        text-align: right;\n",
       "    }\n",
       "</style>\n",
       "<table border=\"1\" class=\"dataframe\">\n",
       "  <thead>\n",
       "    <tr style=\"text-align: right;\">\n",
       "      <th></th>\n",
       "      <th>Unnamed</th>\n",
       "      <th>Category</th>\n",
       "      <th>Age</th>\n",
       "      <th>Sex</th>\n",
       "      <th>ALB</th>\n",
       "      <th>ALP</th>\n",
       "      <th>ALT</th>\n",
       "      <th>AST</th>\n",
       "      <th>BIL</th>\n",
       "      <th>CHE</th>\n",
       "      <th>CHOL</th>\n",
       "      <th>CREA</th>\n",
       "      <th>GGT</th>\n",
       "      <th>PROT</th>\n",
       "    </tr>\n",
       "  </thead>\n",
       "  <tbody>\n",
       "    <tr>\n",
       "      <th>0</th>\n",
       "      <td>False</td>\n",
       "      <td>False</td>\n",
       "      <td>False</td>\n",
       "      <td>False</td>\n",
       "      <td>False</td>\n",
       "      <td>False</td>\n",
       "      <td>False</td>\n",
       "      <td>False</td>\n",
       "      <td>False</td>\n",
       "      <td>False</td>\n",
       "      <td>False</td>\n",
       "      <td>False</td>\n",
       "      <td>False</td>\n",
       "      <td>False</td>\n",
       "    </tr>\n",
       "    <tr>\n",
       "      <th>1</th>\n",
       "      <td>False</td>\n",
       "      <td>False</td>\n",
       "      <td>False</td>\n",
       "      <td>False</td>\n",
       "      <td>False</td>\n",
       "      <td>False</td>\n",
       "      <td>False</td>\n",
       "      <td>False</td>\n",
       "      <td>False</td>\n",
       "      <td>False</td>\n",
       "      <td>False</td>\n",
       "      <td>False</td>\n",
       "      <td>False</td>\n",
       "      <td>False</td>\n",
       "    </tr>\n",
       "    <tr>\n",
       "      <th>2</th>\n",
       "      <td>False</td>\n",
       "      <td>False</td>\n",
       "      <td>False</td>\n",
       "      <td>False</td>\n",
       "      <td>False</td>\n",
       "      <td>False</td>\n",
       "      <td>False</td>\n",
       "      <td>False</td>\n",
       "      <td>False</td>\n",
       "      <td>False</td>\n",
       "      <td>False</td>\n",
       "      <td>False</td>\n",
       "      <td>False</td>\n",
       "      <td>False</td>\n",
       "    </tr>\n",
       "    <tr>\n",
       "      <th>3</th>\n",
       "      <td>False</td>\n",
       "      <td>False</td>\n",
       "      <td>False</td>\n",
       "      <td>False</td>\n",
       "      <td>False</td>\n",
       "      <td>False</td>\n",
       "      <td>False</td>\n",
       "      <td>False</td>\n",
       "      <td>False</td>\n",
       "      <td>False</td>\n",
       "      <td>False</td>\n",
       "      <td>False</td>\n",
       "      <td>False</td>\n",
       "      <td>False</td>\n",
       "    </tr>\n",
       "    <tr>\n",
       "      <th>4</th>\n",
       "      <td>False</td>\n",
       "      <td>False</td>\n",
       "      <td>False</td>\n",
       "      <td>False</td>\n",
       "      <td>False</td>\n",
       "      <td>False</td>\n",
       "      <td>False</td>\n",
       "      <td>False</td>\n",
       "      <td>False</td>\n",
       "      <td>False</td>\n",
       "      <td>False</td>\n",
       "      <td>False</td>\n",
       "      <td>False</td>\n",
       "      <td>False</td>\n",
       "    </tr>\n",
       "    <tr>\n",
       "      <th>...</th>\n",
       "      <td>...</td>\n",
       "      <td>...</td>\n",
       "      <td>...</td>\n",
       "      <td>...</td>\n",
       "      <td>...</td>\n",
       "      <td>...</td>\n",
       "      <td>...</td>\n",
       "      <td>...</td>\n",
       "      <td>...</td>\n",
       "      <td>...</td>\n",
       "      <td>...</td>\n",
       "      <td>...</td>\n",
       "      <td>...</td>\n",
       "      <td>...</td>\n",
       "    </tr>\n",
       "    <tr>\n",
       "      <th>610</th>\n",
       "      <td>False</td>\n",
       "      <td>False</td>\n",
       "      <td>False</td>\n",
       "      <td>False</td>\n",
       "      <td>False</td>\n",
       "      <td>False</td>\n",
       "      <td>False</td>\n",
       "      <td>False</td>\n",
       "      <td>False</td>\n",
       "      <td>False</td>\n",
       "      <td>False</td>\n",
       "      <td>False</td>\n",
       "      <td>False</td>\n",
       "      <td>False</td>\n",
       "    </tr>\n",
       "    <tr>\n",
       "      <th>611</th>\n",
       "      <td>False</td>\n",
       "      <td>False</td>\n",
       "      <td>False</td>\n",
       "      <td>False</td>\n",
       "      <td>False</td>\n",
       "      <td>False</td>\n",
       "      <td>False</td>\n",
       "      <td>False</td>\n",
       "      <td>False</td>\n",
       "      <td>False</td>\n",
       "      <td>False</td>\n",
       "      <td>False</td>\n",
       "      <td>False</td>\n",
       "      <td>False</td>\n",
       "    </tr>\n",
       "    <tr>\n",
       "      <th>612</th>\n",
       "      <td>False</td>\n",
       "      <td>False</td>\n",
       "      <td>False</td>\n",
       "      <td>False</td>\n",
       "      <td>False</td>\n",
       "      <td>False</td>\n",
       "      <td>False</td>\n",
       "      <td>False</td>\n",
       "      <td>False</td>\n",
       "      <td>False</td>\n",
       "      <td>False</td>\n",
       "      <td>False</td>\n",
       "      <td>False</td>\n",
       "      <td>False</td>\n",
       "    </tr>\n",
       "    <tr>\n",
       "      <th>613</th>\n",
       "      <td>False</td>\n",
       "      <td>False</td>\n",
       "      <td>False</td>\n",
       "      <td>False</td>\n",
       "      <td>False</td>\n",
       "      <td>True</td>\n",
       "      <td>False</td>\n",
       "      <td>False</td>\n",
       "      <td>False</td>\n",
       "      <td>False</td>\n",
       "      <td>False</td>\n",
       "      <td>False</td>\n",
       "      <td>False</td>\n",
       "      <td>False</td>\n",
       "    </tr>\n",
       "    <tr>\n",
       "      <th>614</th>\n",
       "      <td>False</td>\n",
       "      <td>False</td>\n",
       "      <td>False</td>\n",
       "      <td>False</td>\n",
       "      <td>False</td>\n",
       "      <td>True</td>\n",
       "      <td>False</td>\n",
       "      <td>False</td>\n",
       "      <td>False</td>\n",
       "      <td>False</td>\n",
       "      <td>False</td>\n",
       "      <td>False</td>\n",
       "      <td>False</td>\n",
       "      <td>False</td>\n",
       "    </tr>\n",
       "  </tbody>\n",
       "</table>\n",
       "<p>615 rows × 14 columns</p>\n",
       "</div>"
      ],
      "text/plain": [
       "     Unnamed  Category    Age    Sex    ALB    ALP    ALT    AST    BIL  \\\n",
       "0      False     False  False  False  False  False  False  False  False   \n",
       "1      False     False  False  False  False  False  False  False  False   \n",
       "2      False     False  False  False  False  False  False  False  False   \n",
       "3      False     False  False  False  False  False  False  False  False   \n",
       "4      False     False  False  False  False  False  False  False  False   \n",
       "..       ...       ...    ...    ...    ...    ...    ...    ...    ...   \n",
       "610    False     False  False  False  False  False  False  False  False   \n",
       "611    False     False  False  False  False  False  False  False  False   \n",
       "612    False     False  False  False  False  False  False  False  False   \n",
       "613    False     False  False  False  False   True  False  False  False   \n",
       "614    False     False  False  False  False   True  False  False  False   \n",
       "\n",
       "       CHE   CHOL   CREA    GGT   PROT  \n",
       "0    False  False  False  False  False  \n",
       "1    False  False  False  False  False  \n",
       "2    False  False  False  False  False  \n",
       "3    False  False  False  False  False  \n",
       "4    False  False  False  False  False  \n",
       "..     ...    ...    ...    ...    ...  \n",
       "610  False  False  False  False  False  \n",
       "611  False  False  False  False  False  \n",
       "612  False  False  False  False  False  \n",
       "613  False  False  False  False  False  \n",
       "614  False  False  False  False  False  \n",
       "\n",
       "[615 rows x 14 columns]"
      ]
     },
     "execution_count": 30,
     "metadata": {},
     "output_type": "execute_result"
    }
   ],
   "source": [
    "df.isnull()"
   ]
  },
  {
   "cell_type": "code",
   "execution_count": 31,
   "id": "68f8ccc1",
   "metadata": {
    "ExecuteTime": {
     "end_time": "2022-12-23T15:21:11.567649Z",
     "start_time": "2022-12-23T15:21:11.402646Z"
    }
   },
   "outputs": [
    {
     "data": {
      "text/plain": [
       "<AxesSubplot:xlabel='Sex', ylabel='count'>"
      ]
     },
     "execution_count": 31,
     "metadata": {},
     "output_type": "execute_result"
    },
    {
     "data": {
      "image/png": "[encoded data removed]",
      "text/plain": [
       "<Figure size 640x480 with 1 Axes>"
      ]
     },
     "metadata": {},
     "output_type": "display_data"
    }
   ],
   "source": [
    "sns.countplot(x='Sex', data=df)"
   ]
  },
  {
   "cell_type": "code",
   "execution_count": 32,
   "id": "7ac70b1e",
   "metadata": {
    "ExecuteTime": {
     "end_time": "2022-12-23T15:21:14.662683Z",
     "start_time": "2022-12-23T15:21:14.639575Z"
    }
   },
   "outputs": [
    {
     "data": {
      "text/plain": [
       "0=Blood Donor             533\n",
       "3=Cirrhosis                30\n",
       "1=Hepatitis                24\n",
       "2=Fibrosis                 21\n",
       "0s=suspect Blood Donor      7\n",
       "Name: Category, dtype: int64"
      ]
     },
     "execution_count": 32,
     "metadata": {},
     "output_type": "execute_result"
    }
   ],
   "source": [
    "A = df['Category'].value_counts()\n",
    "A"
   ]
  },
  {
   "cell_type": "code",
   "execution_count": 33,
   "id": "3e090bdf",
   "metadata": {
    "ExecuteTime": {
     "end_time": "2022-12-23T15:21:16.924956Z",
     "start_time": "2022-12-23T15:21:16.912956Z"
    }
   },
   "outputs": [
    {
     "data": {
      "text/plain": [
       "46    32\n",
       "48    28\n",
       "33    25\n",
       "51    24\n",
       "52    22\n",
       "50    21\n",
       "49    21\n",
       "35    21\n",
       "38    20\n",
       "53    20\n",
       "37    20\n",
       "43    20\n",
       "44    20\n",
       "47    20\n",
       "56    20\n",
       "45    19\n",
       "34    19\n",
       "59    18\n",
       "32    17\n",
       "57    16\n",
       "36    16\n",
       "41    16\n",
       "39    15\n",
       "40    14\n",
       "55    14\n",
       "42    13\n",
       "54    12\n",
       "60    12\n",
       "58    10\n",
       "61     9\n",
       "64     9\n",
       "62     8\n",
       "65     8\n",
       "63     6\n",
       "68     4\n",
       "66     4\n",
       "67     3\n",
       "70     3\n",
       "71     3\n",
       "76     2\n",
       "74     2\n",
       "29     2\n",
       "77     1\n",
       "19     1\n",
       "23     1\n",
       "25     1\n",
       "27     1\n",
       "30     1\n",
       "75     1\n",
       "Name: Age, dtype: int64"
      ]
     },
     "execution_count": 33,
     "metadata": {},
     "output_type": "execute_result"
    }
   ],
   "source": [
    "B = df['Age'].value_counts()\n",
    "B"
   ]
  },
  {
   "cell_type": "code",
   "execution_count": 65,
   "id": "8bfbadf9",
   "metadata": {
    "ExecuteTime": {
     "end_time": "2022-12-23T15:28:47.551232Z",
     "start_time": "2022-12-23T15:28:47.529231Z"
    }
   },
   "outputs": [],
   "source": [
    "df.replace([np.inf, -np.inf], np.nan, inplace=True)\n",
    "df.fillna(999, inplace=True)"
   ]
  },
  {
   "cell_type": "code",
   "execution_count": 58,
   "id": "816f06ad",
   "metadata": {
    "ExecuteTime": {
     "end_time": "2022-12-23T15:27:36.451773Z",
     "start_time": "2022-12-23T15:27:36.433773Z"
    }
   },
   "outputs": [],
   "source": [
    "def clean_dataset(df):\n",
    "    assert isinstance(df, pd.DataFrame), \"df needs to be a pd.DataFrame\"\n",
    "    df.dropna(inplace=True)\n",
    "    indices_to_keep = ~df.isin([np.nan, np.inf, -np.inf]).any(1)\n",
    "    return df[indices_to_keep].astype(np.float64)"
   ]
  },
  {
   "cell_type": "code",
   "execution_count": 49,
   "id": "d3206212",
   "metadata": {
    "ExecuteTime": {
     "end_time": "2022-12-23T15:25:46.735739Z",
     "start_time": "2022-12-23T15:25:46.720738Z"
    }
   },
   "outputs": [
    {
     "data": {
      "text/plain": [
       "False"
      ]
     },
     "execution_count": 49,
     "metadata": {},
     "output_type": "execute_result"
    }
   ],
   "source": [
    "np.isnan(df.any()) #and gets False\n",
    "np.isfinite(df.all()) #and gets True\n",
    "\n",
    "np.any(np.isnan(df))\n",
    "\n",
    "np.all(np.isfinite(df))"
   ]
  },
  {
   "cell_type": "code",
   "execution_count": 67,
   "id": "5b633c31",
   "metadata": {
    "ExecuteTime": {
     "end_time": "2022-12-23T15:28:53.947183Z",
     "start_time": "2022-12-23T15:28:53.936182Z"
    }
   },
   "outputs": [],
   "source": [
    "categorical_col = []\n",
    "for column in df.columns:\n",
    "    if df[column].dtype == object and len(df[column].unique()) <= 50:\n",
    "        categorical_col.append(column)\n",
    "        \n",
    "df['Category'] = df.Unnamed.astype(\"category\").cat.codes"
   ]
  },
  {
   "cell_type": "code",
   "execution_count": 60,
   "id": "e36476c0",
   "metadata": {
    "ExecuteTime": {
     "end_time": "2022-12-23T15:27:43.345886Z",
     "start_time": "2022-12-23T15:27:43.327786Z"
    }
   },
   "outputs": [],
   "source": [
    "label = LabelEncoder()\n",
    "for column in categorical_col:\n",
    "    df[column] = label.fit_transform(df[column])"
   ]
  },
  {
   "cell_type": "code",
   "execution_count": 77,
   "id": "8e404c38",
   "metadata": {
    "ExecuteTime": {
     "end_time": "2022-12-23T15:32:00.137076Z",
     "start_time": "2022-12-23T15:32:00.121079Z"
    }
   },
   "outputs": [],
   "source": [
    "from sklearn.model_selection import train_test_split\n",
    "\n",
    "X = df.drop('Sex', axis=1)\n",
    "y = df.Sex\n",
    "\n",
    "X_train, X_test, y_train, y_test = train_test_split(X, y, test_size=0.3, random_state=42)"
   ]
  },
  {
   "cell_type": "code",
   "execution_count": 78,
   "id": "48877fe4",
   "metadata": {
    "ExecuteTime": {
     "end_time": "2022-12-23T15:32:02.865462Z",
     "start_time": "2022-12-23T15:32:02.842617Z"
    }
   },
   "outputs": [],
   "source": [
    "from sklearn.metrics import accuracy_score, confusion_matrix, classification_report\n",
    "\n",
    "def print_score(clf, X_train, y_train, X_test, y_test, train=True):\n",
    "    if train:\n",
    "        pred = clf.predict(X_train)\n",
    "        clf_report = pd.DataFrame(classification_report(y_train, pred, output_dict=True))\n",
    "        print(\"Train Result:\\n================================================\")\n",
    "        print(f\"Accuracy Score: {accuracy_score(y_train, pred) * 100:.2f}%\")\n",
    "        print(\"_______________________________________________\")\n",
    "        print(f\"CLASSIFICATION REPORT:\\n{clf_report}\")\n",
    "        print(\"_______________________________________________\")\n",
    "        print(f\"Confusion Matrix: \\n {confusion_matrix(y_train, pred)}\\n\")\n",
    "        \n",
    "    elif train==False:\n",
    "        pred = clf.predict(X_test)\n",
    "        clf_report = pd.DataFrame(classification_report(y_test, pred, output_dict=True))\n",
    "        print(\"Test Result:\\n================================================\")        \n",
    "        print(f\"Accuracy Score: {accuracy_score(y_test, pred) * 100:.2f}%\")\n",
    "        print(\"_______________________________________________\")\n",
    "        print(f\"CLASSIFICATION REPORT:\\n{clf_report}\")\n",
    "        print(\"_______________________________________________\")\n",
    "        print(f\"Confusion Matrix: \\n {confusion_matrix(y_test, pred)}\\n\")"
   ]
  },
  {
   "cell_type": "code",
   "execution_count": 79,
   "id": "4aa893be",
   "metadata": {
    "ExecuteTime": {
     "end_time": "2022-12-23T15:32:05.583892Z",
     "start_time": "2022-12-23T15:32:05.536895Z"
    }
   },
   "outputs": [
    {
     "name": "stdout",
     "output_type": "stream",
     "text": [
      "Train Result:\n",
      "================================================\n",
      "Accuracy Score: 100.00%\n",
      "_______________________________________________\n",
      "CLASSIFICATION REPORT:\n",
      "               0      1  accuracy  macro avg  weighted avg\n",
      "precision    1.0    1.0       1.0        1.0           1.0\n",
      "recall       1.0    1.0       1.0        1.0           1.0\n",
      "f1-score     1.0    1.0       1.0        1.0           1.0\n",
      "support    183.0  247.0       1.0      430.0         430.0\n",
      "_______________________________________________\n",
      "Confusion Matrix: \n",
      " [[183   0]\n",
      " [  0 247]]\n",
      "\n",
      "Test Result:\n",
      "================================================\n",
      "Accuracy Score: 94.05%\n",
      "_______________________________________________\n",
      "CLASSIFICATION REPORT:\n",
      "                   0           1  accuracy   macro avg  weighted avg\n",
      "precision   0.907407    0.954198  0.940541    0.930803      0.940288\n",
      "recall      0.890909    0.961538  0.940541    0.926224      0.940541\n",
      "f1-score    0.899083    0.957854  0.940541    0.928468      0.940382\n",
      "support    55.000000  130.000000  0.940541  185.000000    185.000000\n",
      "_______________________________________________\n",
      "Confusion Matrix: \n",
      " [[ 49   6]\n",
      " [  5 125]]\n",
      "\n"
     ]
    }
   ],
   "source": [
    "tree_clf = DecisionTreeClassifier(random_state=100)\n",
    "tree_clf.fit(X_train, y_train)\n",
    "\n",
    "print_score(tree_clf, X_train, y_train, X_test, y_test, train=True)\n",
    "print_score(tree_clf, X_train, y_train, X_test, y_test, train=False)"
   ]
  },
  {
   "cell_type": "code",
   "execution_count": 80,
   "id": "7c764605",
   "metadata": {
    "ExecuteTime": {
     "end_time": "2022-12-23T15:32:40.147260Z",
     "start_time": "2022-12-23T15:32:11.195152Z"
    }
   },
   "outputs": [
    {
     "name": "stdout",
     "output_type": "stream",
     "text": [
      "Fitting 3 folds for each of 4332 candidates, totalling 12996 fits\n",
      "Best paramters: {'criterion': 'entropy', 'max_depth': 6, 'min_samples_leaf': 1, 'min_samples_split': 2, 'splitter': 'best'})\n",
      "Train Result:\n",
      "================================================\n",
      "Accuracy Score: 99.77%\n",
      "_______________________________________________\n",
      "CLASSIFICATION REPORT:\n",
      "                    0           1  accuracy   macro avg  weighted avg\n",
      "precision    1.000000    0.995968  0.997674    0.997984      0.997684\n",
      "recall       0.994536    1.000000  0.997674    0.997268      0.997674\n",
      "f1-score     0.997260    0.997980  0.997674    0.997620      0.997674\n",
      "support    183.000000  247.000000  0.997674  430.000000    430.000000\n",
      "_______________________________________________\n",
      "Confusion Matrix: \n",
      " [[182   1]\n",
      " [  0 247]]\n",
      "\n",
      "Test Result:\n",
      "================================================\n",
      "Accuracy Score: 94.05%\n",
      "_______________________________________________\n",
      "CLASSIFICATION REPORT:\n",
      "                   0           1  accuracy   macro avg  weighted avg\n",
      "precision   0.907407    0.954198  0.940541    0.930803      0.940288\n",
      "recall      0.890909    0.961538  0.940541    0.926224      0.940541\n",
      "f1-score    0.899083    0.957854  0.940541    0.928468      0.940382\n",
      "support    55.000000  130.000000  0.940541  185.000000    185.000000\n",
      "_______________________________________________\n",
      "Confusion Matrix: \n",
      " [[ 49   6]\n",
      " [  5 125]]\n",
      "\n"
     ]
    }
   ],
   "source": [
    "from sklearn.tree import DecisionTreeClassifier\n",
    "from sklearn.model_selection import GridSearchCV\n",
    "\n",
    "params = {\n",
    "    \"criterion\":(\"gini\", \"entropy\"), \n",
    "    \"splitter\":(\"best\", \"random\"), \n",
    "    \"max_depth\":(list(range(1, 20))), \n",
    "    \"min_samples_split\":[2, 3, 4], \n",
    "    \"min_samples_leaf\":list(range(1, 20)), \n",
    "}\n",
    "\n",
    "\n",
    "tree_clf = DecisionTreeClassifier(random_state=42)\n",
    "tree_cv = GridSearchCV(tree_clf, params, scoring=\"accuracy\", n_jobs=-1, verbose=1, cv=3)\n",
    "tree_cv.fit(X_train, y_train)\n",
    "best_params = tree_cv.best_params_\n",
    "print(f\"Best paramters: {best_params})\")\n",
    "\n",
    "tree_clf = DecisionTreeClassifier(**best_params)\n",
    "tree_clf.fit(X_train, y_train)\n",
    "print_score(tree_clf, X_train, y_train, X_test, y_test, train=True)\n",
    "print_score(tree_clf, X_train, y_train, X_test, y_test, train=False)"
   ]
  },
  {
   "cell_type": "code",
   "execution_count": 81,
   "id": "c0f8568b",
   "metadata": {
    "ExecuteTime": {
     "end_time": "2022-12-23T15:33:52.847873Z",
     "start_time": "2022-12-23T15:33:52.576931Z"
    }
   },
   "outputs": [
    {
     "name": "stdout",
     "output_type": "stream",
     "text": [
      "Train Result:\n",
      "================================================\n",
      "Accuracy Score: 100.00%\n",
      "_______________________________________________\n",
      "CLASSIFICATION REPORT:\n",
      "               0      1  accuracy  macro avg  weighted avg\n",
      "precision    1.0    1.0       1.0        1.0           1.0\n",
      "recall       1.0    1.0       1.0        1.0           1.0\n",
      "f1-score     1.0    1.0       1.0        1.0           1.0\n",
      "support    183.0  247.0       1.0      430.0         430.0\n",
      "_______________________________________________\n",
      "Confusion Matrix: \n",
      " [[183   0]\n",
      " [  0 247]]\n",
      "\n",
      "Test Result:\n",
      "================================================\n",
      "Accuracy Score: 95.68%\n",
      "_______________________________________________\n",
      "CLASSIFICATION REPORT:\n",
      "                   0           1  accuracy   macro avg  weighted avg\n",
      "precision   0.943396    0.962121  0.956757    0.952759      0.956554\n",
      "recall      0.909091    0.976923  0.956757    0.943007      0.956757\n",
      "f1-score    0.925926    0.969466  0.956757    0.947696      0.956521\n",
      "support    55.000000  130.000000  0.956757  185.000000    185.000000\n",
      "_______________________________________________\n",
      "Confusion Matrix: \n",
      " [[ 50   5]\n",
      " [  3 127]]\n",
      "\n"
     ]
    }
   ],
   "source": [
    "from sklearn.ensemble import RandomForestClassifier\n",
    "\n",
    "rf_clf = RandomForestClassifier(n_estimators=100)\n",
    "rf_clf.fit(X_train, y_train)\n",
    "\n",
    "print_score(rf_clf, X_train, y_train, X_test, y_test, train=True)\n",
    "print_score(rf_clf, X_train, y_train, X_test, y_test, train=False)"
   ]
  },
  {
   "cell_type": "code",
   "execution_count": 82,
   "id": "3be41956",
   "metadata": {
    "ExecuteTime": {
     "end_time": "2022-12-23T15:36:58.018521Z",
     "start_time": "2022-12-23T15:34:06.857520Z"
    }
   },
   "outputs": [
    {
     "name": "stdout",
     "output_type": "stream",
     "text": [
      "Fitting 3 folds for each of 100 candidates, totalling 300 fits\n",
      "Best paramters: {'n_estimators': 400, 'min_samples_split': 2, 'min_samples_leaf': 1, 'max_features': 'sqrt', 'max_depth': None, 'bootstrap': False})\n",
      "Train Result:\n",
      "================================================\n",
      "Accuracy Score: 100.00%\n",
      "_______________________________________________\n",
      "CLASSIFICATION REPORT:\n",
      "               0      1  accuracy  macro avg  weighted avg\n",
      "precision    1.0    1.0       1.0        1.0           1.0\n",
      "recall       1.0    1.0       1.0        1.0           1.0\n",
      "f1-score     1.0    1.0       1.0        1.0           1.0\n",
      "support    183.0  247.0       1.0      430.0         430.0\n",
      "_______________________________________________\n",
      "Confusion Matrix: \n",
      " [[183   0]\n",
      " [  0 247]]\n",
      "\n",
      "Test Result:\n",
      "================================================\n",
      "Accuracy Score: 96.76%\n",
      "_______________________________________________\n",
      "CLASSIFICATION REPORT:\n",
      "                   0           1  accuracy   macro avg  weighted avg\n",
      "precision   0.962264    0.969697  0.967568    0.965981      0.967487\n",
      "recall      0.927273    0.984615  0.967568    0.955944      0.967568\n",
      "f1-score    0.944444    0.977099  0.967568    0.960772      0.967391\n",
      "support    55.000000  130.000000  0.967568  185.000000    185.000000\n",
      "_______________________________________________\n",
      "Confusion Matrix: \n",
      " [[ 51   4]\n",
      " [  2 128]]\n",
      "\n"
     ]
    }
   ],
   "source": [
    "from sklearn.ensemble import RandomForestClassifier\n",
    "from sklearn.model_selection import RandomizedSearchCV\n",
    "\n",
    "n_estimators = [int(x) for x in np.linspace(start=200, stop=2000, num=10)]\n",
    "max_features = ['auto', 'sqrt']\n",
    "max_depth = [int(x) for x in np.linspace(10, 110, num=11)]\n",
    "max_depth.append(None)\n",
    "min_samples_split = [2, 5, 10]\n",
    "min_samples_leaf = [1, 2, 4]\n",
    "bootstrap = [True, False]\n",
    "\n",
    "random_grid = {'n_estimators': n_estimators, 'max_features': max_features,\n",
    "               'max_depth': max_depth, 'min_samples_split': min_samples_split,\n",
    "               'min_samples_leaf': min_samples_leaf, 'bootstrap': bootstrap}\n",
    "\n",
    "rf_clf = RandomForestClassifier(random_state=42)\n",
    "\n",
    "rf_cv = RandomizedSearchCV(estimator=rf_clf, scoring='f1',param_distributions=random_grid, n_iter=100, cv=3, \n",
    "                               verbose=2, random_state=42, n_jobs=-1)\n",
    "\n",
    "rf_cv.fit(X_train, y_train)\n",
    "rf_best_params = rf_cv.best_params_\n",
    "print(f\"Best paramters: {rf_best_params})\")\n",
    "\n",
    "rf_clf = RandomForestClassifier(**rf_best_params)\n",
    "rf_clf.fit(X_train, y_train)\n",
    "\n",
    "print_score(rf_clf, X_train, y_train, X_test, y_test, train=True)\n",
    "print_score(rf_clf, X_train, y_train, X_test, y_test, train=False)"
   ]
  },
  {
   "cell_type": "code",
   "execution_count": 83,
   "id": "edb1dfc3",
   "metadata": {
    "ExecuteTime": {
     "end_time": "2022-12-23T15:53:23.248589Z",
     "start_time": "2022-12-23T15:37:30.152593Z"
    }
   },
   "outputs": [
    {
     "name": "stdout",
     "output_type": "stream",
     "text": [
      "Fitting 3 folds for each of 768 candidates, totalling 2304 fits\n",
      "Best parameters: {'bootstrap': False, 'max_depth': None, 'max_features': 'auto', 'min_samples_leaf': 1, 'min_samples_split': 2, 'n_estimators': 500}\n",
      "Train Result:\n",
      "================================================\n",
      "Accuracy Score: 100.00%\n",
      "_______________________________________________\n",
      "CLASSIFICATION REPORT:\n",
      "               0      1  accuracy  macro avg  weighted avg\n",
      "precision    1.0    1.0       1.0        1.0           1.0\n",
      "recall       1.0    1.0       1.0        1.0           1.0\n",
      "f1-score     1.0    1.0       1.0        1.0           1.0\n",
      "support    183.0  247.0       1.0      430.0         430.0\n",
      "_______________________________________________\n",
      "Confusion Matrix: \n",
      " [[183   0]\n",
      " [  0 247]]\n",
      "\n",
      "Test Result:\n",
      "================================================\n",
      "Accuracy Score: 96.76%\n",
      "_______________________________________________\n",
      "CLASSIFICATION REPORT:\n",
      "                   0           1  accuracy   macro avg  weighted avg\n",
      "precision   0.962264    0.969697  0.967568    0.965981      0.967487\n",
      "recall      0.927273    0.984615  0.967568    0.955944      0.967568\n",
      "f1-score    0.944444    0.977099  0.967568    0.960772      0.967391\n",
      "support    55.000000  130.000000  0.967568  185.000000    185.000000\n",
      "_______________________________________________\n",
      "Confusion Matrix: \n",
      " [[ 51   4]\n",
      " [  2 128]]\n",
      "\n"
     ]
    }
   ],
   "source": [
    "n_estimators = [100, 500, 1000, 1500]\n",
    "max_features = ['auto', 'sqrt']\n",
    "max_depth = [2, 3, 5]\n",
    "max_depth.append(None)\n",
    "min_samples_split = [2, 5, 10]\n",
    "min_samples_leaf = [1, 2, 4, 10]\n",
    "bootstrap = [True, False]\n",
    "\n",
    "params_grid = {'n_estimators': n_estimators, 'max_features': max_features,\n",
    "               'max_depth': max_depth, 'min_samples_split': min_samples_split,\n",
    "               'min_samples_leaf': min_samples_leaf, 'bootstrap': bootstrap}\n",
    "\n",
    "rf_clf = RandomForestClassifier(random_state=42)\n",
    "\n",
    "rf_cv = GridSearchCV(rf_clf, params_grid, scoring=\"f1\", cv=3, verbose=2, n_jobs=-1)\n",
    "\n",
    "\n",
    "rf_cv.fit(X_train, y_train)\n",
    "best_params = rf_cv.best_params_\n",
    "print(f\"Best parameters: {best_params}\")\n",
    "\n",
    "rf_clf = RandomForestClassifier(**best_params)\n",
    "rf_clf.fit(X_train, y_train)\n",
    "\n",
    "print_score(rf_clf, X_train, y_train, X_test, y_test, train=True)\n",
    "print_score(rf_clf, X_train, y_train, X_test, y_test, train=False)"
   ]
  },
  {
   "cell_type": "code",
   "execution_count": 84,
   "id": "e1d82e7e",
   "metadata": {
    "ExecuteTime": {
     "end_time": "2022-12-23T15:54:50.940903Z",
     "start_time": "2022-12-23T15:54:50.921903Z"
    }
   },
   "outputs": [],
   "source": [
    "from sklearn.model_selection import train_test_split\n",
    "X_train, X_test, y_train, y_test = train_test_split(X, y, test_size= 0.2)"
   ]
  },
  {
   "cell_type": "code",
   "execution_count": 85,
   "id": "7bb89ac5",
   "metadata": {
    "ExecuteTime": {
     "end_time": "2022-12-23T15:55:01.465458Z",
     "start_time": "2022-12-23T15:55:01.442459Z"
    }
   },
   "outputs": [
    {
     "data": {
      "text/plain": [
       "DecisionTreeClassifier(random_state=42)"
      ]
     },
     "execution_count": 85,
     "metadata": {},
     "output_type": "execute_result"
    }
   ],
   "source": [
    "from sklearn.tree import DecisionTreeClassifier\n",
    "tr = DecisionTreeClassifier(random_state= 42)\n",
    "tr.fit(X_train, y_train) "
   ]
  },
  {
   "cell_type": "code",
   "execution_count": 86,
   "id": "6f05c907",
   "metadata": {
    "ExecuteTime": {
     "end_time": "2022-12-23T15:55:12.955187Z",
     "start_time": "2022-12-23T15:55:12.938187Z"
    }
   },
   "outputs": [
    {
     "data": {
      "text/plain": [
       "100.0"
      ]
     },
     "execution_count": 86,
     "metadata": {},
     "output_type": "execute_result"
    }
   ],
   "source": [
    "tr.score(X_train, y_train)*100"
   ]
  },
  {
   "cell_type": "code",
   "execution_count": 87,
   "id": "c43fbf52",
   "metadata": {
    "ExecuteTime": {
     "end_time": "2022-12-23T15:55:26.662423Z",
     "start_time": "2022-12-23T15:55:26.640421Z"
    }
   },
   "outputs": [
    {
     "data": {
      "text/plain": [
       "93.4959349593496"
      ]
     },
     "execution_count": 87,
     "metadata": {},
     "output_type": "execute_result"
    }
   ],
   "source": [
    "y_pred = tr.predict(X_test)\n",
    "accuracy_score(y_pred, y_test)*100"
   ]
  },
  {
   "cell_type": "code",
   "execution_count": 88,
   "id": "e96d9a78",
   "metadata": {
    "ExecuteTime": {
     "end_time": "2022-12-23T15:55:48.150475Z",
     "start_time": "2022-12-23T15:55:38.642474Z"
    }
   },
   "outputs": [
    {
     "data": {
      "text/plain": [
       "SVC(kernel='linear')"
      ]
     },
     "execution_count": 88,
     "metadata": {},
     "output_type": "execute_result"
    }
   ],
   "source": [
    "tr = SVC(C = 1.0, kernel = 'linear')\n",
    "tr.fit(X_train, y_train)"
   ]
  },
  {
   "cell_type": "code",
   "execution_count": 89,
   "id": "c5c81abd",
   "metadata": {
    "ExecuteTime": {
     "end_time": "2022-12-23T15:55:52.294065Z",
     "start_time": "2022-12-23T15:55:52.281067Z"
    }
   },
   "outputs": [
    {
     "data": {
      "text/plain": [
       "86.99186991869918"
      ]
     },
     "execution_count": 89,
     "metadata": {},
     "output_type": "execute_result"
    }
   ],
   "source": [
    "y_pred = tr.predict(X_test)\n",
    "accuracy_score(y_pred, y_test)*100"
   ]
  },
  {
   "cell_type": "code",
   "execution_count": 90,
   "id": "f2542e32",
   "metadata": {
    "ExecuteTime": {
     "end_time": "2022-12-23T15:56:01.261861Z",
     "start_time": "2022-12-23T15:56:01.201862Z"
    }
   },
   "outputs": [
    {
     "name": "stderr",
     "output_type": "stream",
     "text": [
      "D:\\Programs\\A\\lib\\site-packages\\sklearn\\linear_model\\_logistic.py:814: ConvergenceWarning: lbfgs failed to converge (status=1):\n",
      "STOP: TOTAL NO. of ITERATIONS REACHED LIMIT.\n",
      "\n",
      "Increase the number of iterations (max_iter) or scale the data as shown in:\n",
      "    https://scikit-learn.org/stable/modules/preprocessing.html\n",
      "Please also refer to the documentation for alternative solver options:\n",
      "    https://scikit-learn.org/stable/modules/linear_model.html#logistic-regression\n",
      "  n_iter_i = _check_optimize_result(\n"
     ]
    },
    {
     "data": {
      "text/plain": [
       "LogisticRegression()"
      ]
     },
     "execution_count": 90,
     "metadata": {},
     "output_type": "execute_result"
    }
   ],
   "source": [
    "lr = LogisticRegression()\n",
    "lr.fit(X_train, y_train)"
   ]
  },
  {
   "cell_type": "code",
   "execution_count": 91,
   "id": "e7e3a3de",
   "metadata": {
    "ExecuteTime": {
     "end_time": "2022-12-23T15:56:11.380054Z",
     "start_time": "2022-12-23T15:56:11.368057Z"
    }
   },
   "outputs": [
    {
     "data": {
      "text/plain": [
       "86.1788617886179"
      ]
     },
     "execution_count": 91,
     "metadata": {},
     "output_type": "execute_result"
    }
   ],
   "source": [
    "y_pred = lr.predict(X_test)\n",
    "accuracy_score(y_pred, y_test)*100"
   ]
  },
  {
   "cell_type": "code",
   "execution_count": 92,
   "id": "4866e0fc",
   "metadata": {
    "ExecuteTime": {
     "end_time": "2022-12-23T15:56:20.961058Z",
     "start_time": "2022-12-23T15:56:20.945055Z"
    }
   },
   "outputs": [
    {
     "data": {
      "text/plain": [
       "KNeighborsClassifier(n_neighbors=10)"
      ]
     },
     "execution_count": 92,
     "metadata": {},
     "output_type": "execute_result"
    }
   ],
   "source": [
    "ac = neighbors.KNeighborsClassifier(n_neighbors=10)\n",
    "ac.fit(X_train, y_train) "
   ]
  },
  {
   "cell_type": "code",
   "execution_count": 93,
   "id": "f002ebda",
   "metadata": {
    "ExecuteTime": {
     "end_time": "2022-12-23T15:56:30.584374Z",
     "start_time": "2022-12-23T15:56:30.561376Z"
    }
   },
   "outputs": [
    {
     "name": "stderr",
     "output_type": "stream",
     "text": [
      "D:\\Programs\\A\\lib\\site-packages\\sklearn\\neighbors\\_classification.py:228: FutureWarning: Unlike other reduction functions (e.g. `skew`, `kurtosis`), the default behavior of `mode` typically preserves the axis it acts along. In SciPy 1.11.0, this behavior will change: the default value of `keepdims` will become False, the `axis` over which the statistic is taken will be eliminated, and the value None will no longer be accepted. Set `keepdims` to True or False to avoid this warning.\n",
      "  mode, _ = stats.mode(_y[neigh_ind, k], axis=1)\n"
     ]
    },
    {
     "data": {
      "text/plain": [
       "87.8048780487805"
      ]
     },
     "execution_count": 93,
     "metadata": {},
     "output_type": "execute_result"
    }
   ],
   "source": [
    "y_pred = ac.predict(X_test)\n",
    "accuracy_score(y_pred, y_test)*100"
   ]
  },
  {
   "cell_type": "code",
   "execution_count": 94,
   "id": "3c13846e",
   "metadata": {
    "ExecuteTime": {
     "end_time": "2022-12-23T15:56:44.364375Z",
     "start_time": "2022-12-23T15:56:44.344265Z"
    }
   },
   "outputs": [
    {
     "data": {
      "text/plain": [
       "RandomForestClassifier(n_estimators=2)"
      ]
     },
     "execution_count": 94,
     "metadata": {},
     "output_type": "execute_result"
    }
   ],
   "source": [
    "rf = RandomForestClassifier(n_estimators=2)\n",
    "rf.fit(X_train, y_train)"
   ]
  },
  {
   "cell_type": "code",
   "execution_count": 95,
   "id": "044f2f21",
   "metadata": {
    "ExecuteTime": {
     "end_time": "2022-12-23T15:57:37.321496Z",
     "start_time": "2022-12-23T15:57:37.304495Z"
    }
   },
   "outputs": [
    {
     "data": {
      "text/plain": [
       "93.4959349593496"
      ]
     },
     "execution_count": 95,
     "metadata": {},
     "output_type": "execute_result"
    }
   ],
   "source": [
    "y_pred = rf.predict(X_test)\n",
    "accuracy_score(y_pred, y_test)*100"
   ]
  },
  {
   "cell_type": "code",
   "execution_count": 96,
   "id": "a2386b1a",
   "metadata": {
    "ExecuteTime": {
     "end_time": "2022-12-23T16:01:42.680787Z",
     "start_time": "2022-12-23T15:58:33.304459Z"
    }
   },
   "outputs": [
    {
     "data": {
      "text/plain": [
       "91.97250132205183"
      ]
     },
     "execution_count": 96,
     "metadata": {},
     "output_type": "execute_result"
    }
   ],
   "source": [
    "score = cross_val_score(tr, X, y, cv = 10)\n",
    "score.mean()*100"
   ]
  },
  {
   "cell_type": "code",
   "execution_count": 97,
   "id": "624eaed3",
   "metadata": {
    "ExecuteTime": {
     "end_time": "2022-12-23T16:01:42.966787Z",
     "start_time": "2022-12-23T16:01:42.684790Z"
    }
   },
   "outputs": [
    {
     "data": {
      "text/plain": [
       "89.47368421052632"
      ]
     },
     "execution_count": 97,
     "metadata": {},
     "output_type": "execute_result"
    },
    {
     "data": {
      "image/png": "[encoded data removed]",
      "text/plain": [
       "<Figure size 640x480 with 2 Axes>"
      ]
     },
     "metadata": {},
     "output_type": "display_data"
    }
   ],
   "source": [
    "sns.heatmap(confusion_matrix(rf.predict(X_test), y_test),annot=True)\n",
    "f1_score(tr.predict(X_test), y_test)*100"
   ]
  },
  {
   "cell_type": "code",
   "execution_count": null,
   "id": "a794dbe0",
   "metadata": {},
   "outputs": [],
   "source": []
  }
 ],
 "metadata": {
  "kernelspec": {
   "display_name": "Python 3 (ipykernel)",
   "language": "python",
   "name": "python3"
  },
  "language_info": {
   "codemirror_mode": {
    "name": "ipython",
    "version": 3
   },
   "file_extension": ".py",
   "mimetype": "text/x-python",
   "name": "python",
   "nbconvert_exporter": "python",
   "pygments_lexer": "ipython3",
   "version": "3.9.13"
  },
  "nbTranslate": {
   "displayLangs": [
    "*"
   ],
   "hotkey": "alt-t",
   "langInMainMenu": true,
   "sourceLang": "en",
   "targetLang": "fr",
   "useGoogleTranslate": true
  }
 },
 "nbformat": 4,
 "nbformat_minor": 5
}
